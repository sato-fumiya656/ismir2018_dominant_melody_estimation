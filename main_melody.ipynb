{
  "nbformat": 4,
  "nbformat_minor": 0,
  "metadata": {
    "colab": {
      "name": "main_melody.ipynb",
      "provenance": [],
      "mount_file_id": "1jjq_FMgxcA4o12H4wJq3zo7cgQ48boAc",
      "authorship_tag": "ABX9TyN77vqhzb4UVHzKGYVyo/sm",
      "include_colab_link": true
    },
    "kernelspec": {
      "name": "python3",
      "display_name": "Python 3"
    },
    "accelerator": "GPU"
  },
  "cells": [
    {
      "cell_type": "markdown",
      "metadata": {
        "id": "view-in-github",
        "colab_type": "text"
      },
      "source": [
        "<a href=\"https://colab.research.google.com/github/sato-fumiya656/ismir2018_dominant_melody_estimation/blob/master/main_melody.ipynb\" target=\"_parent\"><img src=\"https://colab.research.google.com/assets/colab-badge.svg\" alt=\"Open In Colab\"/></a>"
      ]
    },
    {
      "cell_type": "code",
      "metadata": {
        "id": "qSv59x-Nfilk",
        "colab_type": "code",
        "outputId": "195b0e7f-ca43-4a29-d46d-9149ef3026af",
        "colab": {
          "base_uri": "https://localhost:8080/",
          "height": 1000
        }
      },
      "source": [
        "!python3 /content/drive/\"My Drive\"/ismir2018_dominant_melody_estimation-master/predict/predict_on_single_audio_CRNN.py"
      ],
      "execution_count": 32,
      "outputs": [
        {
          "output_type": "stream",
          "text": [
            "Using TensorFlow backend.\n",
            "2020-05-27 07:15:18.485908: I tensorflow/stream_executor/platform/default/dso_loader.cc:44] Successfully opened dynamic library libcudart.so.10.1\n",
            "AClassicEducation_NightOwl - Processing\n",
            "Tuning fraction: 0.050000000000000044\n",
            "iteration  0  over  40\n",
            "iteration  1  over  40\n",
            "iteration  2  over  40\n",
            "iteration  3  over  40\n",
            "iteration  4  over  40\n",
            "iteration  5  over  40\n",
            "iteration  6  over  40\n",
            "iteration  7  over  40\n",
            "iteration  8  over  40\n",
            "iteration  9  over  40\n",
            "iteration  10  over  40\n",
            "iteration  11  over  40\n",
            "iteration  12  over  40\n",
            "iteration  13  over  40\n",
            "iteration  14  over  40\n",
            "iteration  15  over  40\n",
            "iteration  16  over  40\n",
            "iteration  17  over  40\n",
            "iteration  18  over  40\n",
            "iteration  19  over  40\n",
            "iteration  20  over  40\n",
            "iteration  21  over  40\n",
            "iteration  22  over  40\n",
            "iteration  23  over  40\n",
            "iteration  24  over  40\n",
            "iteration  25  over  40\n",
            "iteration  26  over  40\n",
            "iteration  27  over  40\n",
            "iteration  28  over  40\n",
            "iteration  29  over  40\n",
            "iteration  30  over  40\n",
            "iteration  31  over  40\n",
            "iteration  32  over  40\n",
            "iteration  33  over  40\n",
            "iteration  34  over  40\n",
            "iteration  35  over  40\n",
            "iteration  36  over  40\n",
            "iteration  37  over  40\n",
            "iteration  38  over  40\n",
            "iteration  39  over  40\n",
            "Done!\n",
            "AClassicEducation_NightOwl file is created\n",
            "2020-05-27 07:16:56.738863: I tensorflow/stream_executor/platform/default/dso_loader.cc:44] Successfully opened dynamic library libcuda.so.1\n",
            "2020-05-27 07:16:56.799661: I tensorflow/stream_executor/cuda/cuda_gpu_executor.cc:981] successful NUMA node read from SysFS had negative value (-1), but there must be at least one NUMA node, so returning NUMA node zero\n",
            "2020-05-27 07:16:56.800529: I tensorflow/core/common_runtime/gpu/gpu_device.cc:1561] Found device 0 with properties: \n",
            "pciBusID: 0000:00:04.0 name: Tesla K80 computeCapability: 3.7\n",
            "coreClock: 0.8235GHz coreCount: 13 deviceMemorySize: 11.17GiB deviceMemoryBandwidth: 223.96GiB/s\n",
            "2020-05-27 07:16:56.800586: I tensorflow/stream_executor/platform/default/dso_loader.cc:44] Successfully opened dynamic library libcudart.so.10.1\n",
            "2020-05-27 07:16:57.037722: I tensorflow/stream_executor/platform/default/dso_loader.cc:44] Successfully opened dynamic library libcublas.so.10\n",
            "2020-05-27 07:16:57.185204: I tensorflow/stream_executor/platform/default/dso_loader.cc:44] Successfully opened dynamic library libcufft.so.10\n",
            "2020-05-27 07:16:57.211754: I tensorflow/stream_executor/platform/default/dso_loader.cc:44] Successfully opened dynamic library libcurand.so.10\n",
            "2020-05-27 07:16:57.488536: I tensorflow/stream_executor/platform/default/dso_loader.cc:44] Successfully opened dynamic library libcusolver.so.10\n",
            "2020-05-27 07:16:57.516473: I tensorflow/stream_executor/platform/default/dso_loader.cc:44] Successfully opened dynamic library libcusparse.so.10\n",
            "2020-05-27 07:16:58.016654: I tensorflow/stream_executor/platform/default/dso_loader.cc:44] Successfully opened dynamic library libcudnn.so.7\n",
            "2020-05-27 07:16:58.016980: I tensorflow/stream_executor/cuda/cuda_gpu_executor.cc:981] successful NUMA node read from SysFS had negative value (-1), but there must be at least one NUMA node, so returning NUMA node zero\n",
            "2020-05-27 07:16:58.017836: I tensorflow/stream_executor/cuda/cuda_gpu_executor.cc:981] successful NUMA node read from SysFS had negative value (-1), but there must be at least one NUMA node, so returning NUMA node zero\n",
            "2020-05-27 07:16:58.018629: I tensorflow/core/common_runtime/gpu/gpu_device.cc:1703] Adding visible gpu devices: 0\n",
            "2020-05-27 07:16:58.042175: I tensorflow/core/platform/profile_utils/cpu_utils.cc:102] CPU Frequency: 2300000000 Hz\n",
            "2020-05-27 07:16:58.042718: I tensorflow/compiler/xla/service/service.cc:168] XLA service 0x6c61dc0 initialized for platform Host (this does not guarantee that XLA will be used). Devices:\n",
            "2020-05-27 07:16:58.042765: I tensorflow/compiler/xla/service/service.cc:176]   StreamExecutor device (0): Host, Default Version\n",
            "2020-05-27 07:16:58.134653: I tensorflow/stream_executor/cuda/cuda_gpu_executor.cc:981] successful NUMA node read from SysFS had negative value (-1), but there must be at least one NUMA node, so returning NUMA node zero\n",
            "2020-05-27 07:16:58.135559: I tensorflow/compiler/xla/service/service.cc:168] XLA service 0x6c61f80 initialized for platform CUDA (this does not guarantee that XLA will be used). Devices:\n",
            "2020-05-27 07:16:58.135593: I tensorflow/compiler/xla/service/service.cc:176]   StreamExecutor device (0): Tesla K80, Compute Capability 3.7\n",
            "2020-05-27 07:16:58.136848: I tensorflow/stream_executor/cuda/cuda_gpu_executor.cc:981] successful NUMA node read from SysFS had negative value (-1), but there must be at least one NUMA node, so returning NUMA node zero\n",
            "2020-05-27 07:16:58.137638: I tensorflow/core/common_runtime/gpu/gpu_device.cc:1561] Found device 0 with properties: \n",
            "pciBusID: 0000:00:04.0 name: Tesla K80 computeCapability: 3.7\n",
            "coreClock: 0.8235GHz coreCount: 13 deviceMemorySize: 11.17GiB deviceMemoryBandwidth: 223.96GiB/s\n",
            "2020-05-27 07:16:58.137699: I tensorflow/stream_executor/platform/default/dso_loader.cc:44] Successfully opened dynamic library libcudart.so.10.1\n",
            "2020-05-27 07:16:58.137759: I tensorflow/stream_executor/platform/default/dso_loader.cc:44] Successfully opened dynamic library libcublas.so.10\n",
            "2020-05-27 07:16:58.137801: I tensorflow/stream_executor/platform/default/dso_loader.cc:44] Successfully opened dynamic library libcufft.so.10\n",
            "2020-05-27 07:16:58.137847: I tensorflow/stream_executor/platform/default/dso_loader.cc:44] Successfully opened dynamic library libcurand.so.10\n",
            "2020-05-27 07:16:58.137891: I tensorflow/stream_executor/platform/default/dso_loader.cc:44] Successfully opened dynamic library libcusolver.so.10\n",
            "2020-05-27 07:16:58.137946: I tensorflow/stream_executor/platform/default/dso_loader.cc:44] Successfully opened dynamic library libcusparse.so.10\n",
            "2020-05-27 07:16:58.137990: I tensorflow/stream_executor/platform/default/dso_loader.cc:44] Successfully opened dynamic library libcudnn.so.7\n",
            "2020-05-27 07:16:58.138136: I tensorflow/stream_executor/cuda/cuda_gpu_executor.cc:981] successful NUMA node read from SysFS had negative value (-1), but there must be at least one NUMA node, so returning NUMA node zero\n",
            "2020-05-27 07:16:58.138896: I tensorflow/stream_executor/cuda/cuda_gpu_executor.cc:981] successful NUMA node read from SysFS had negative value (-1), but there must be at least one NUMA node, so returning NUMA node zero\n",
            "2020-05-27 07:16:58.139581: I tensorflow/core/common_runtime/gpu/gpu_device.cc:1703] Adding visible gpu devices: 0\n",
            "2020-05-27 07:16:58.147635: I tensorflow/stream_executor/platform/default/dso_loader.cc:44] Successfully opened dynamic library libcudart.so.10.1\n",
            "2020-05-27 07:17:03.711368: I tensorflow/core/common_runtime/gpu/gpu_device.cc:1102] Device interconnect StreamExecutor with strength 1 edge matrix:\n",
            "2020-05-27 07:17:03.711441: I tensorflow/core/common_runtime/gpu/gpu_device.cc:1108]      0 \n",
            "2020-05-27 07:17:03.711460: I tensorflow/core/common_runtime/gpu/gpu_device.cc:1121] 0:   N \n",
            "2020-05-27 07:17:03.716299: I tensorflow/stream_executor/cuda/cuda_gpu_executor.cc:981] successful NUMA node read from SysFS had negative value (-1), but there must be at least one NUMA node, so returning NUMA node zero\n",
            "2020-05-27 07:17:03.717183: I tensorflow/stream_executor/cuda/cuda_gpu_executor.cc:981] successful NUMA node read from SysFS had negative value (-1), but there must be at least one NUMA node, so returning NUMA node zero\n",
            "2020-05-27 07:17:03.717963: W tensorflow/core/common_runtime/gpu/gpu_bfc_allocator.cc:39] Overriding allow_growth setting because the TF_FORCE_GPU_ALLOW_GROWTH environment variable is set. Original config value was 0.\n",
            "2020-05-27 07:17:03.718019: I tensorflow/core/common_runtime/gpu/gpu_device.cc:1247] Created TensorFlow device (/job:localhost/replica:0/task:0/device:GPU:0 with 10634 MB memory) -> physical GPU (device: 0, name: Tesla K80, pci bus id: 0000:00:04.0, compute capability: 3.7)\n",
            "Model: \"model_1\"\n",
            "_________________________________________________________________\n",
            "Layer (type)                 Output Shape              Param #   \n",
            "=================================================================\n",
            "input_1 (InputLayer)         (None, 20, 25, 301, 1)    0         \n",
            "_________________________________________________________________\n",
            "zero_padding3d_1 (ZeroPaddin (None, 20, 25, 305, 1)    0         \n",
            "_________________________________________________________________\n",
            "time_distributed_1 (TimeDist (None, 20, 25, 61, 64)    384       \n",
            "_________________________________________________________________\n",
            "batch_normalization_1 (Batch (None, 20, 25, 61, 64)    256       \n",
            "_________________________________________________________________\n",
            "zero_padding3d_2 (ZeroPaddin (None, 20, 27, 65, 64)    0         \n",
            "_________________________________________________________________\n",
            "time_distributed_2 (TimeDist (None, 20, 25, 61, 64)    61504     \n",
            "_________________________________________________________________\n",
            "batch_normalization_2 (Batch (None, 20, 25, 61, 64)    256       \n",
            "_________________________________________________________________\n",
            "zero_padding3d_3 (ZeroPaddin (None, 20, 27, 63, 64)    0         \n",
            "_________________________________________________________________\n",
            "time_distributed_3 (TimeDist (None, 20, 25, 61, 64)    36928     \n",
            "_________________________________________________________________\n",
            "batch_normalization_3 (Batch (None, 20, 25, 61, 64)    256       \n",
            "_________________________________________________________________\n",
            "zero_padding3d_4 (ZeroPaddin (None, 20, 27, 75, 64)    0         \n",
            "_________________________________________________________________\n",
            "time_distributed_4 (TimeDist (None, 20, 25, 61, 16)    46096     \n",
            "_________________________________________________________________\n",
            "batch_normalization_4 (Batch (None, 20, 25, 61, 16)    64        \n",
            "_________________________________________________________________\n",
            "time_distributed_5 (TimeDist (None, 20, 25, 61, 1)     17        \n",
            "_________________________________________________________________\n",
            "lambda_1 (Lambda)            (None, 20, 25, 61)        0         \n",
            "_________________________________________________________________\n",
            "cnn5-reshape (Reshape)       (None, 500, 61)           0         \n",
            "_________________________________________________________________\n",
            "rnn1 (Bidirectional)         (None, 500, 256)          145920    \n",
            "_________________________________________________________________\n",
            "output (TimeDistributed)     (None, 500, 62)           15934     \n",
            "=================================================================\n",
            "Total params: 307,615\n",
            "Trainable params: 307,199\n",
            "Non-trainable params: 416\n",
            "_________________________________________________________________\n",
            "GRU as RNN!\n",
            "Traceback (most recent call last):\n",
            "  File \"/content/drive/My Drive/ismir2018_dominant_melody_estimation-master/predict/predict_on_single_audio_CRNN.py\", line 445, in main_prediction\n",
            "    model = load_model()\n",
            "  File \"/content/drive/My Drive/ismir2018_dominant_melody_estimation-master/predict/predict_on_single_audio_CRNN.py\", line 367, in load_model\n",
            "    model.load_weights('weights_C-RNN.h5')\n",
            "  File \"/usr/local/lib/python3.6/dist-packages/keras/engine/saving.py\", line 492, in load_wrapper\n",
            "    return load_function(*args, **kwargs)\n",
            "  File \"/usr/local/lib/python3.6/dist-packages/keras/engine/network.py\", line 1221, in load_weights\n",
            "    with h5py.File(filepath, mode='r') as f:\n",
            "  File \"/usr/local/lib/python3.6/dist-packages/h5py/_hl/files.py\", line 408, in __init__\n",
            "    swmr=swmr)\n",
            "  File \"/usr/local/lib/python3.6/dist-packages/h5py/_hl/files.py\", line 173, in make_fid\n",
            "    fid = h5f.open(name, flags, fapl=fapl)\n",
            "  File \"h5py/_objects.pyx\", line 54, in h5py._objects.with_phil.wrapper\n",
            "  File \"h5py/_objects.pyx\", line 55, in h5py._objects.with_phil.wrapper\n",
            "  File \"h5py/h5f.pyx\", line 88, in h5py.h5f.open\n",
            "OSError: Unable to open file (unable to open file: name = 'weights_C-RNN.h5', errno = 2, error message = 'No such file or directory', flags = 0, o_flags = 0)\n",
            "\n",
            "During handling of the above exception, another exception occurred:\n",
            "\n",
            "Traceback (most recent call last):\n",
            "  File \"/content/drive/My Drive/ismir2018_dominant_melody_estimation-master/predict/predict_on_single_audio_CRNN.py\", line 481, in <module>\n",
            "    main_prediction(file_path=audio_fpath, evaluate_results=True)\n",
            "  File \"/content/drive/My Drive/ismir2018_dominant_melody_estimation-master/predict/predict_on_single_audio_CRNN.py\", line 447, in main_prediction\n",
            "    raise RuntimeError('Model could not be loaded!')\n",
            "RuntimeError: Model could not be loaded!\n"
          ],
          "name": "stdout"
        }
      ]
    },
    {
      "cell_type": "code",
      "metadata": {
        "id": "c0SlNGH1rOtI",
        "colab_type": "code",
        "outputId": "51df6b5c-77fb-41e4-aefd-74c3374f3dbc",
        "colab": {
          "base_uri": "https://localhost:8080/",
          "height": 280
        }
      },
      "source": [
        "!pip install mir_eval"
      ],
      "execution_count": 1,
      "outputs": [
        {
          "output_type": "stream",
          "text": [
            "Collecting mir_eval\n",
            "\u001b[?25l  Downloading https://files.pythonhosted.org/packages/0a/fe/be4f7a59ed71938e21e89f23afe93eea0d39eb3e77f83754a12028cf1a68/mir_eval-0.6.tar.gz (87kB)\n",
            "\r\u001b[K     |███▊                            | 10kB 17.7MB/s eta 0:00:01\r\u001b[K     |███████▌                        | 20kB 1.8MB/s eta 0:00:01\r\u001b[K     |███████████▏                    | 30kB 2.3MB/s eta 0:00:01\r\u001b[K     |███████████████                 | 40kB 2.6MB/s eta 0:00:01\r\u001b[K     |██████████████████▋             | 51kB 2.0MB/s eta 0:00:01\r\u001b[K     |██████████████████████▍         | 61kB 2.3MB/s eta 0:00:01\r\u001b[K     |██████████████████████████      | 71kB 2.5MB/s eta 0:00:01\r\u001b[K     |█████████████████████████████▉  | 81kB 2.7MB/s eta 0:00:01\r\u001b[K     |████████████████████████████████| 92kB 2.4MB/s \n",
            "\u001b[?25hRequirement already satisfied: numpy>=1.7.0 in /usr/local/lib/python3.6/dist-packages (from mir_eval) (1.18.4)\n",
            "Requirement already satisfied: scipy>=1.0.0 in /usr/local/lib/python3.6/dist-packages (from mir_eval) (1.4.1)\n",
            "Requirement already satisfied: future in /usr/local/lib/python3.6/dist-packages (from mir_eval) (0.16.0)\n",
            "Requirement already satisfied: six in /usr/local/lib/python3.6/dist-packages (from mir_eval) (1.12.0)\n",
            "Building wheels for collected packages: mir-eval\n",
            "  Building wheel for mir-eval (setup.py) ... \u001b[?25l\u001b[?25hdone\n",
            "  Created wheel for mir-eval: filename=mir_eval-0.6-cp36-none-any.whl size=96515 sha256=c66e02c3e98e4b3af2913ffdfe36fb7f3d51a4d33fd76cf869cd7e38e33a9121\n",
            "  Stored in directory: /root/.cache/pip/wheels/49/ce/30/730fa72addf275e49d90683b01b3613048b4be3bf7ff8eb6ec\n",
            "Successfully built mir-eval\n",
            "Installing collected packages: mir-eval\n",
            "Successfully installed mir-eval-0.6\n"
          ],
          "name": "stdout"
        }
      ]
    },
    {
      "cell_type": "code",
      "metadata": {
        "id": "XA50pOqRu0S8",
        "colab_type": "code",
        "outputId": "f97c4519-f119-4515-b1eb-4ddb020f5f45",
        "colab": {
          "base_uri": "https://localhost:8080/",
          "height": 35
        }
      },
      "source": [
        "!conda install --file --yes requirements.txt"
      ],
      "execution_count": 0,
      "outputs": [
        {
          "output_type": "stream",
          "text": [
            "\u001b[31mERROR: Invalid requirement: 'anaconda-client           1.7.1                    py36_0' (from line 5 of requirements.txt)\u001b[0m\n"
          ],
          "name": "stdout"
        }
      ]
    },
    {
      "cell_type": "code",
      "metadata": {
        "id": "t-VRv-fnRWwp",
        "colab_type": "code",
        "outputId": "d09ad429-f342-4896-aa2d-8fa5c4dc58ef",
        "colab": {
          "base_uri": "https://localhost:8080/",
          "height": 52
        }
      },
      "source": [
        "!python3 /content/drive/\"My Drive\"/ismir2018_dominant_melody_estimation-master/SF-NMF/extract_HF0.py"
      ],
      "execution_count": 25,
      "outputs": [
        {
          "output_type": "stream",
          "text": [
            "/content\n",
            "[]\n"
          ],
          "name": "stdout"
        }
      ]
    },
    {
      "cell_type": "code",
      "metadata": {
        "id": "_d6wueEe9OAx",
        "colab_type": "code",
        "colab": {
          "base_uri": "https://localhost:8080/",
          "height": 34
        },
        "outputId": "574d3bf1-0feb-47e6-c091-beaa3b68c9fe"
      },
      "source": [
        ""
      ],
      "execution_count": 27,
      "outputs": [
        {
          "output_type": "stream",
          "text": [
            "/content/drive/My Drive/ismir2018_dominant_melody_estimation-master/SF-NMF\n"
          ],
          "name": "stdout"
        }
      ]
    },
    {
      "cell_type": "code",
      "metadata": {
        "id": "mXrq7lmLAK-K",
        "colab_type": "code",
        "colab": {
          "base_uri": "https://localhost:8080/",
          "height": 34
        },
        "outputId": "8206500a-1a7d-4a0a-e63b-33bbea688a95"
      },
      "source": [
        "%cd /content/drive/\"My Drive\"/ismir2018_dominant_melody_estimation-master/predict"
      ],
      "execution_count": 36,
      "outputs": [
        {
          "output_type": "stream",
          "text": [
            "/content/drive/My Drive/ismir2018_dominant_melody_estimation-master/predict\n"
          ],
          "name": "stdout"
        }
      ]
    },
    {
      "cell_type": "code",
      "metadata": {
        "id": "knk9HhaHAgLX",
        "colab_type": "code",
        "colab": {
          "base_uri": "https://localhost:8080/",
          "height": 1000
        },
        "outputId": "fe189a3c-1d05-40ba-aac6-12400f2c5920"
      },
      "source": [
        "!python3 predict_on_single_audio_CRNN.py"
      ],
      "execution_count": 37,
      "outputs": [
        {
          "output_type": "stream",
          "text": [
            "Using TensorFlow backend.\n",
            "2020-05-27 07:25:51.425060: I tensorflow/stream_executor/platform/default/dso_loader.cc:44] Successfully opened dynamic library libcudart.so.10.1\n",
            "AClassicEducation_NightOwl - Processing\n",
            "Tuning fraction: 0.050000000000000044\n",
            "iteration  0  over  40\n",
            "iteration  1  over  40\n",
            "iteration  2  over  40\n",
            "iteration  3  over  40\n",
            "iteration  4  over  40\n",
            "iteration  5  over  40\n",
            "iteration  6  over  40\n",
            "iteration  7  over  40\n",
            "iteration  8  over  40\n",
            "iteration  9  over  40\n",
            "iteration  10  over  40\n",
            "iteration  11  over  40\n",
            "iteration  12  over  40\n",
            "iteration  13  over  40\n",
            "iteration  14  over  40\n",
            "iteration  15  over  40\n",
            "iteration  16  over  40\n",
            "iteration  17  over  40\n",
            "iteration  18  over  40\n",
            "iteration  19  over  40\n",
            "iteration  20  over  40\n",
            "iteration  21  over  40\n",
            "iteration  22  over  40\n",
            "iteration  23  over  40\n",
            "iteration  24  over  40\n",
            "iteration  25  over  40\n",
            "iteration  26  over  40\n",
            "iteration  27  over  40\n",
            "iteration  28  over  40\n",
            "iteration  29  over  40\n",
            "iteration  30  over  40\n",
            "iteration  31  over  40\n",
            "iteration  32  over  40\n",
            "iteration  33  over  40\n",
            "iteration  34  over  40\n",
            "iteration  35  over  40\n",
            "iteration  36  over  40\n",
            "iteration  37  over  40\n",
            "iteration  38  over  40\n",
            "iteration  39  over  40\n",
            "Done!\n",
            "AClassicEducation_NightOwl file is created\n",
            "2020-05-27 07:27:30.047251: I tensorflow/stream_executor/platform/default/dso_loader.cc:44] Successfully opened dynamic library libcuda.so.1\n",
            "2020-05-27 07:27:30.065495: I tensorflow/stream_executor/cuda/cuda_gpu_executor.cc:981] successful NUMA node read from SysFS had negative value (-1), but there must be at least one NUMA node, so returning NUMA node zero\n",
            "2020-05-27 07:27:30.066255: I tensorflow/core/common_runtime/gpu/gpu_device.cc:1561] Found device 0 with properties: \n",
            "pciBusID: 0000:00:04.0 name: Tesla K80 computeCapability: 3.7\n",
            "coreClock: 0.8235GHz coreCount: 13 deviceMemorySize: 11.17GiB deviceMemoryBandwidth: 223.96GiB/s\n",
            "2020-05-27 07:27:30.066301: I tensorflow/stream_executor/platform/default/dso_loader.cc:44] Successfully opened dynamic library libcudart.so.10.1\n",
            "2020-05-27 07:27:30.068223: I tensorflow/stream_executor/platform/default/dso_loader.cc:44] Successfully opened dynamic library libcublas.so.10\n",
            "2020-05-27 07:27:30.069941: I tensorflow/stream_executor/platform/default/dso_loader.cc:44] Successfully opened dynamic library libcufft.so.10\n",
            "2020-05-27 07:27:30.070282: I tensorflow/stream_executor/platform/default/dso_loader.cc:44] Successfully opened dynamic library libcurand.so.10\n",
            "2020-05-27 07:27:30.071863: I tensorflow/stream_executor/platform/default/dso_loader.cc:44] Successfully opened dynamic library libcusolver.so.10\n",
            "2020-05-27 07:27:30.072697: I tensorflow/stream_executor/platform/default/dso_loader.cc:44] Successfully opened dynamic library libcusparse.so.10\n",
            "2020-05-27 07:27:30.076322: I tensorflow/stream_executor/platform/default/dso_loader.cc:44] Successfully opened dynamic library libcudnn.so.7\n",
            "2020-05-27 07:27:30.076489: I tensorflow/stream_executor/cuda/cuda_gpu_executor.cc:981] successful NUMA node read from SysFS had negative value (-1), but there must be at least one NUMA node, so returning NUMA node zero\n",
            "2020-05-27 07:27:30.077311: I tensorflow/stream_executor/cuda/cuda_gpu_executor.cc:981] successful NUMA node read from SysFS had negative value (-1), but there must be at least one NUMA node, so returning NUMA node zero\n",
            "2020-05-27 07:27:30.077986: I tensorflow/core/common_runtime/gpu/gpu_device.cc:1703] Adding visible gpu devices: 0\n",
            "2020-05-27 07:27:30.083946: I tensorflow/core/platform/profile_utils/cpu_utils.cc:102] CPU Frequency: 2300000000 Hz\n",
            "2020-05-27 07:27:30.084284: I tensorflow/compiler/xla/service/service.cc:168] XLA service 0x624dc00 initialized for platform Host (this does not guarantee that XLA will be used). Devices:\n",
            "2020-05-27 07:27:30.084322: I tensorflow/compiler/xla/service/service.cc:176]   StreamExecutor device (0): Host, Default Version\n",
            "2020-05-27 07:27:30.138669: I tensorflow/stream_executor/cuda/cuda_gpu_executor.cc:981] successful NUMA node read from SysFS had negative value (-1), but there must be at least one NUMA node, so returning NUMA node zero\n",
            "2020-05-27 07:27:30.139610: I tensorflow/compiler/xla/service/service.cc:168] XLA service 0x624ddc0 initialized for platform CUDA (this does not guarantee that XLA will be used). Devices:\n",
            "2020-05-27 07:27:30.139645: I tensorflow/compiler/xla/service/service.cc:176]   StreamExecutor device (0): Tesla K80, Compute Capability 3.7\n",
            "2020-05-27 07:27:30.139870: I tensorflow/stream_executor/cuda/cuda_gpu_executor.cc:981] successful NUMA node read from SysFS had negative value (-1), but there must be at least one NUMA node, so returning NUMA node zero\n",
            "2020-05-27 07:27:30.140641: I tensorflow/core/common_runtime/gpu/gpu_device.cc:1561] Found device 0 with properties: \n",
            "pciBusID: 0000:00:04.0 name: Tesla K80 computeCapability: 3.7\n",
            "coreClock: 0.8235GHz coreCount: 13 deviceMemorySize: 11.17GiB deviceMemoryBandwidth: 223.96GiB/s\n",
            "2020-05-27 07:27:30.140702: I tensorflow/stream_executor/platform/default/dso_loader.cc:44] Successfully opened dynamic library libcudart.so.10.1\n",
            "2020-05-27 07:27:30.140762: I tensorflow/stream_executor/platform/default/dso_loader.cc:44] Successfully opened dynamic library libcublas.so.10\n",
            "2020-05-27 07:27:30.140804: I tensorflow/stream_executor/platform/default/dso_loader.cc:44] Successfully opened dynamic library libcufft.so.10\n",
            "2020-05-27 07:27:30.140850: I tensorflow/stream_executor/platform/default/dso_loader.cc:44] Successfully opened dynamic library libcurand.so.10\n",
            "2020-05-27 07:27:30.140893: I tensorflow/stream_executor/platform/default/dso_loader.cc:44] Successfully opened dynamic library libcusolver.so.10\n",
            "2020-05-27 07:27:30.141031: I tensorflow/stream_executor/platform/default/dso_loader.cc:44] Successfully opened dynamic library libcusparse.so.10\n",
            "2020-05-27 07:27:30.141095: I tensorflow/stream_executor/platform/default/dso_loader.cc:44] Successfully opened dynamic library libcudnn.so.7\n",
            "2020-05-27 07:27:30.141280: I tensorflow/stream_executor/cuda/cuda_gpu_executor.cc:981] successful NUMA node read from SysFS had negative value (-1), but there must be at least one NUMA node, so returning NUMA node zero\n",
            "2020-05-27 07:27:30.142251: I tensorflow/stream_executor/cuda/cuda_gpu_executor.cc:981] successful NUMA node read from SysFS had negative value (-1), but there must be at least one NUMA node, so returning NUMA node zero\n",
            "2020-05-27 07:27:30.143013: I tensorflow/core/common_runtime/gpu/gpu_device.cc:1703] Adding visible gpu devices: 0\n",
            "2020-05-27 07:27:30.143094: I tensorflow/stream_executor/platform/default/dso_loader.cc:44] Successfully opened dynamic library libcudart.so.10.1\n",
            "2020-05-27 07:27:30.465809: I tensorflow/core/common_runtime/gpu/gpu_device.cc:1102] Device interconnect StreamExecutor with strength 1 edge matrix:\n",
            "2020-05-27 07:27:30.465878: I tensorflow/core/common_runtime/gpu/gpu_device.cc:1108]      0 \n",
            "2020-05-27 07:27:30.465898: I tensorflow/core/common_runtime/gpu/gpu_device.cc:1121] 0:   N \n",
            "2020-05-27 07:27:30.466244: I tensorflow/stream_executor/cuda/cuda_gpu_executor.cc:981] successful NUMA node read from SysFS had negative value (-1), but there must be at least one NUMA node, so returning NUMA node zero\n",
            "2020-05-27 07:27:30.467091: I tensorflow/stream_executor/cuda/cuda_gpu_executor.cc:981] successful NUMA node read from SysFS had negative value (-1), but there must be at least one NUMA node, so returning NUMA node zero\n",
            "2020-05-27 07:27:30.467786: W tensorflow/core/common_runtime/gpu/gpu_bfc_allocator.cc:39] Overriding allow_growth setting because the TF_FORCE_GPU_ALLOW_GROWTH environment variable is set. Original config value was 0.\n",
            "2020-05-27 07:27:30.467843: I tensorflow/core/common_runtime/gpu/gpu_device.cc:1247] Created TensorFlow device (/job:localhost/replica:0/task:0/device:GPU:0 with 10634 MB memory) -> physical GPU (device: 0, name: Tesla K80, pci bus id: 0000:00:04.0, compute capability: 3.7)\n",
            "Model: \"model_1\"\n",
            "_________________________________________________________________\n",
            "Layer (type)                 Output Shape              Param #   \n",
            "=================================================================\n",
            "input_1 (InputLayer)         (None, 20, 25, 301, 1)    0         \n",
            "_________________________________________________________________\n",
            "zero_padding3d_1 (ZeroPaddin (None, 20, 25, 305, 1)    0         \n",
            "_________________________________________________________________\n",
            "time_distributed_1 (TimeDist (None, 20, 25, 61, 64)    384       \n",
            "_________________________________________________________________\n",
            "batch_normalization_1 (Batch (None, 20, 25, 61, 64)    256       \n",
            "_________________________________________________________________\n",
            "zero_padding3d_2 (ZeroPaddin (None, 20, 27, 65, 64)    0         \n",
            "_________________________________________________________________\n",
            "time_distributed_2 (TimeDist (None, 20, 25, 61, 64)    61504     \n",
            "_________________________________________________________________\n",
            "batch_normalization_2 (Batch (None, 20, 25, 61, 64)    256       \n",
            "_________________________________________________________________\n",
            "zero_padding3d_3 (ZeroPaddin (None, 20, 27, 63, 64)    0         \n",
            "_________________________________________________________________\n",
            "time_distributed_3 (TimeDist (None, 20, 25, 61, 64)    36928     \n",
            "_________________________________________________________________\n",
            "batch_normalization_3 (Batch (None, 20, 25, 61, 64)    256       \n",
            "_________________________________________________________________\n",
            "zero_padding3d_4 (ZeroPaddin (None, 20, 27, 75, 64)    0         \n",
            "_________________________________________________________________\n",
            "time_distributed_4 (TimeDist (None, 20, 25, 61, 16)    46096     \n",
            "_________________________________________________________________\n",
            "batch_normalization_4 (Batch (None, 20, 25, 61, 16)    64        \n",
            "_________________________________________________________________\n",
            "time_distributed_5 (TimeDist (None, 20, 25, 61, 1)     17        \n",
            "_________________________________________________________________\n",
            "lambda_1 (Lambda)            (None, 20, 25, 61)        0         \n",
            "_________________________________________________________________\n",
            "cnn5-reshape (Reshape)       (None, 500, 61)           0         \n",
            "_________________________________________________________________\n",
            "rnn1 (Bidirectional)         (None, 500, 256)          145920    \n",
            "_________________________________________________________________\n",
            "output (TimeDistributed)     (None, 500, 62)           15934     \n",
            "=================================================================\n",
            "Total params: 307,615\n",
            "Trainable params: 307,199\n",
            "Non-trainable params: 416\n",
            "_________________________________________________________________\n",
            "GRU as RNN!\n",
            "2020-05-27 07:27:32.855969: I tensorflow/stream_executor/platform/default/dso_loader.cc:44] Successfully opened dynamic library libcublas.so.10\n",
            "2020-05-27 07:27:34.219762: I tensorflow/stream_executor/platform/default/dso_loader.cc:44] Successfully opened dynamic library libcudnn.so.7\n",
            "AClassicEducation_NightOwl - Evaluation results:\n",
            "    voicing_recall_rate = 0.4790643024994659\n",
            "    voicing_false_alarm_rate = 0.031822386679000926\n",
            "    raw_pitch_accuracy = 0.7547532578508865\n",
            "    raw_chroma_accuracy = 0.7690664387951293\n",
            "    overall_accuracy = 0.6337780185548859\n"
          ],
          "name": "stdout"
        }
      ]
    },
    {
      "cell_type": "code",
      "metadata": {
        "id": "IFXCEFPh9sWi",
        "colab_type": "code",
        "colab": {
          "base_uri": "https://localhost:8080/",
          "height": 1000
        },
        "outputId": "375281ab-e569-424c-b3e1-0065cb20de9b"
      },
      "source": [
        "!python3 extract_HF0.py"
      ],
      "execution_count": 8,
      "outputs": [
        {
          "output_type": "stream",
          "text": [
            "MusicDelta_Beethoven - Processing\n",
            "Schumann_Mignon - Processing\n",
            "MusicDelta_InTheHalloftheMountainKing - Processing\n",
            "MusicDelta_Punk - Processing\n",
            "AimeeNorwich_Flying - Processing\n",
            "AmarLal_Rest - Processing\n",
            "Meaxic_YouListen - Processing\n",
            "EthanHein_GirlOnABridge - Processing\n",
            "MusicDelta_ChineseHenan - Processing\n",
            "Auctioneer_OurFutureFaces - Processing\n",
            "MusicDelta_Rock - Processing\n",
            "FamilyBand_Again - Processing\n",
            "MusicDelta_Rockabilly - Processing\n",
            "BrandonWebster_DontHearAThing - Processing\n",
            "CroqueMadame_Oil - Processing\n",
            "MusicDelta_FunkJazz - Processing\n",
            "AlexanderRoss_GoodbyeBolero - Processing\n",
            "MusicDelta_Shadows - Processing\n",
            "MusicDelta_LatinJazz - Processing\n",
            "ClaraBerryAndWooldog_TheBadGuys - Processing\n",
            "MichaelKropf_AllGoodThings - Processing\n",
            "MusicDelta_Gospel - Processing\n",
            "Phoenix_SeanCaughlinsTheScartaglen - Processing\n",
            "MusicDelta_Country2 - Processing\n",
            "PortStWillow_StayEven - Processing\n",
            "MusicDelta_Grunge - Processing\n",
            "ClaraBerryAndWooldog_Boys - Processing\n",
            "Mozart_BesterJungling - Processing\n",
            "MusicDelta_ChineseChaoZhou - Processing\n",
            "ChrisJacoby_BoothShotLincoln - Processing\n",
            "FacesOnFilm_WaitingForGa - Processing\n",
            "MusicDelta_Reggae - Processing\n",
            "MusicDelta_80sRock - Processing\n",
            "TheSoSoGlos_Emergency - Processing\n",
            "HeladoNegro_MitadDelMundo - Processing\n",
            "MatthewEntwistle_Lontano - Processing\n",
            "MusicDelta_BebopJazz - Processing\n",
            "MusicDelta_SpeedMetal - Processing\n",
            "MusicDelta_ChineseYaoZu - Processing\n",
            "MatthewEntwistle_FairerHopes - Processing\n",
            "KarimDouaidy_Hopscotch - Processing\n",
            "LizNelson_ImComingHome - Processing\n",
            "KarimDouaidy_Yatora - Processing\n",
            "ClaraBerryAndWooldog_AirTraffic - Processing\n",
            "AmarLal_SpringDay1 - Processing\n",
            "MusicDelta_FreeJazz - Processing\n",
            "MusicDelta_GriegTrolltog - Processing\n",
            "MatthewEntwistle_DontYouEver - Processing\n",
            "MusicDelta_Country1 - Processing\n",
            "Phoenix_ColliersDaughter - Processing\n",
            "Snowmine_Curfews - Processing\n",
            "DreamersOfTheGhetto_HeavyLove - Processing\n",
            "BrandonWebster_YesSirICanFly - Processing\n",
            "ClaraBerryAndWooldog_WaltzForMyVictims - Processing\n",
            "HopAlong_SisterCities - Processing\n",
            "TheDistricts_Vermont - Processing\n",
            "AvaLuna_Waterduct - Processing\n",
            "MusicDelta_FusionJazz - Processing\n",
            "BigTroubles_Phantom - Processing\n",
            "MatthewEntwistle_TheFlaxenField - Processing\n",
            "MusicDelta_Britpop - Processing\n",
            "InvisibleFamiliars_DisturbingWildlife - Processing\n",
            "AClassicEducation_NightOwl - Processing\n",
            "NightPanther_Fire - Processing\n",
            "Meaxic_TakeAStep - Processing\n",
            "Phoenix_LarkOnTheStrandDrummondCastle - Processing\n",
            "ClaraBerryAndWooldog_Stella - Processing\n",
            "ChrisJacoby_PigsFoot - Processing\n",
            "MusicDelta_Vivaldi - Processing\n",
            "MusicDelta_Hendrix - Processing\n",
            "MusicDelta_ModalJazz - Processing\n",
            "HezekiahJones_BorrowedHeart - Processing\n",
            "JoelHelander_ExcessiveResistancetoChange - Processing\n",
            "Creepoid_OldTree - Processing\n",
            "Mozart_DiesBildnis - Processing\n",
            "MusicDelta_ChineseJiangNan - Processing\n",
            "MusicDelta_ChineseDrama - Processing\n",
            "Phoenix_BrokenPledgeChicagoReel - Processing\n",
            "LizNelson_Coldwar - Processing\n",
            "TheScarletBrand_LesFleursDuMal - Processing\n",
            "MatthewEntwistle_TheArch - Processing\n",
            "Handel_TornamiAVagheggiar - Processing\n",
            "SecretMountains_HighHorse - Processing\n",
            "MusicDelta_CoolJazz - Processing\n",
            "CroqueMadame_Pilot - Processing\n",
            "SweetLights_YouLetMeDown - Processing\n",
            "LizNelson_Rainfall - Processing\n",
            "MusicDelta_Pachelbel - Processing\n",
            "StrandOfOaks_Spacestation - Processing\n",
            "JoelHelander_IntheAtticBedroom - Processing\n",
            "Wolf_DieBekherte - Processing\n",
            "AimeeNorwich_Child - Processing\n",
            "Schubert_Erstarrung - Processing\n",
            "MusicDelta_ChineseXinJing - Processing\n",
            "MusicDelta_SwingJazz - Processing\n",
            "JoelHelander_Definition - Processing\n",
            "PurlingHiss_Lolita - Processing\n",
            "Debussy_LenfantProdigue - Processing\n",
            "EthanHein_1930sSynthAndUprightBass - Processing\n",
            "MatthewEntwistle_ImpressionsOfSaturn - Processing\n",
            "MusicDelta_Beatles - Processing\n",
            "AlexanderRoss_VelvetCurtain - Processing\n",
            "MusicDelta_Disco - Processing\n",
            "Phoenix_ElzicsFarewell - Processing\n",
            "MusicDelta_Zeppelin - Processing\n",
            "Phoenix_ScotchMorris - Processing\n",
            "StevenClark_Bounty - Processing\n",
            "CelestialShore_DieForUs - Processing\n"
          ],
          "name": "stdout"
        }
      ]
    },
    {
      "cell_type": "code",
      "metadata": {
        "id": "DLtZf5xvwTFb",
        "colab_type": "code",
        "colab": {}
      },
      "source": [
        ""
      ],
      "execution_count": 0,
      "outputs": []
    },
    {
      "cell_type": "code",
      "metadata": {
        "id": "XdP0aNnTNxlK",
        "colab_type": "code",
        "colab": {
          "base_uri": "https://localhost:8080/",
          "height": 312
        },
        "outputId": "17317aab-2087-4f0c-a6d2-4d2d7aee47bb"
      },
      "source": [
        "!python3 extract_HF0.py"
      ],
      "execution_count": 48,
      "outputs": [
        {
          "output_type": "stream",
          "text": [
            "MatthewEntwistle_ImpressionsOfSaturn file is not processed due to an error\n",
            "MusicDelta_Beatles - Processing\n",
            "MusicDelta_Beatles file is not processed due to an error\n",
            "AlexanderRoss_VelvetCurtain - Processing\n",
            "AlexanderRoss_VelvetCurtain file is not processed due to an error\n",
            "MusicDelta_Disco - Processing\n",
            "MusicDelta_Disco file is not processed due to an error\n",
            "Phoenix_ElzicsFarewell - Processing\n",
            "Phoenix_ElzicsFarewell file is not processed due to an error\n",
            "MusicDelta_Zeppelin - Processing\n",
            "MusicDelta_Zeppelin file is not processed due to an error\n",
            "Phoenix_ScotchMorris - Processing\n",
            "Phoenix_ScotchMorris file is not processed due to an error\n",
            "StevenClark_Bounty - Processing\n",
            "StevenClark_Bounty file is not processed due to an error\n",
            "CelestialShore_DieForUs - Processing\n",
            "CelestialShore_DieForUs file is not processed due to an error\n"
          ],
          "name": "stdout"
        }
      ]
    },
    {
      "cell_type": "code",
      "metadata": {
        "id": "IoXhLWvVLxGs",
        "colab_type": "code",
        "colab": {
          "base_uri": "https://localhost:8080/",
          "height": 34
        },
        "outputId": "847949b4-3db1-419e-ff6b-cffd17e72f4b"
      },
      "source": [
        "%cd /content/drive/\"My Drive\"/ismir2018_dominant_melody_estimation-master/SF-NMF"
      ],
      "execution_count": 38,
      "outputs": [
        {
          "output_type": "stream",
          "text": [
            "/content/drive/My Drive/ismir2018_dominant_melody_estimation-master/SF-NMF\n"
          ],
          "name": "stdout"
        }
      ]
    },
    {
      "cell_type": "code",
      "metadata": {
        "id": "wyphMcgxS3H_",
        "colab_type": "code",
        "colab": {
          "base_uri": "https://localhost:8080/",
          "height": 141
        },
        "outputId": "505141c4-ecce-4a0e-90ce-a8f0eb0b55a1"
      },
      "source": [
        "!python3 /content/drive/\"My Drive\"/ismir2018_dominant_melody_estimation-master/CRNN/C-RNN_model1.py"
      ],
      "execution_count": 10,
      "outputs": [
        {
          "output_type": "stream",
          "text": [
            "Using TensorFlow backend.\n",
            "2020-05-27 06:47:33.443566: I tensorflow/stream_executor/platform/default/dso_loader.cc:44] Successfully opened dynamic library libcudart.so.10.1\n",
            "Traceback (most recent call last):\n",
            "  File \"/content/drive/My Drive/ismir2018_dominant_melody_estimation-master/CRNN/C-RNN_model1.py\", line 19, in <module>\n",
            "    from utils import read_arguments, print_arguments, train_model, evaluate_model, \\\n",
            "ImportError: cannot import name 'get_GPU_lock'\n"
          ],
          "name": "stdout"
        }
      ]
    },
    {
      "cell_type": "code",
      "metadata": {
        "id": "021l-cZbr_Wk",
        "colab_type": "code",
        "outputId": "8a450bd0-93d0-4eb1-8ec6-f3bdafdf04c2",
        "colab": {
          "base_uri": "https://localhost:8080/",
          "height": 141
        }
      },
      "source": [
        "!python3 /content/drive/\"My Drive\"/ismir2018_dominant_melody_estimation-master/random_dataset_splits/random_splits.py"
      ],
      "execution_count": 9,
      "outputs": [
        {
          "output_type": "stream",
          "text": [
            "Traceback (most recent call last):\n",
            "  File \"/content/drive/My Drive/ismir2018_dominant_melody_estimation-master/random_dataset_splits/random_splits.py\", line 561, in <module>\n",
            "    generate_dataset_splits(args=args)\n",
            "  File \"/content/drive/My Drive/ismir2018_dominant_melody_estimation-master/random_dataset_splits/random_splits.py\", line 527, in generate_dataset_splits\n",
            "    with open(args.split_file_path) as f:\n",
            "TypeError: expected str, bytes or os.PathLike object, not NoneType\n"
          ],
          "name": "stdout"
        }
      ]
    },
    {
      "cell_type": "code",
      "metadata": {
        "id": "xpYCrMIiCLCY",
        "colab_type": "code",
        "colab": {
          "base_uri": "https://localhost:8080/",
          "height": 34
        },
        "outputId": "9bc1b09f-04d6-4662-fe21-70703d59c203"
      },
      "source": [
        "%cd /content/drive/My Drive/ismir2018_dominant_melody_estimation-master/"
      ],
      "execution_count": 41,
      "outputs": [
        {
          "output_type": "stream",
          "text": [
            "/content/drive/My Drive/ismir2018_dominant_melody_estimation-master\n"
          ],
          "name": "stdout"
        }
      ]
    },
    {
      "cell_type": "code",
      "metadata": {
        "id": "OqdVlUtfCdjT",
        "colab_type": "code",
        "colab": {}
      },
      "source": [
        ""
      ],
      "execution_count": 0,
      "outputs": []
    },
    {
      "cell_type": "code",
      "metadata": {
        "id": "wmDOsj-4Cdo2",
        "colab_type": "code",
        "colab": {
          "base_uri": "https://localhost:8080/",
          "height": 176
        },
        "outputId": "01c86f3f-0906-41d2-8901-8cfebd01e1c3"
      },
      "source": [
        "!python3 CRNN/C-RNN_model1.py"
      ],
      "execution_count": 49,
      "outputs": [
        {
          "output_type": "stream",
          "text": [
            "Using TensorFlow backend.\n",
            "2020-05-27 07:47:12.190453: I tensorflow/stream_executor/platform/default/dso_loader.cc:44] Successfully opened dynamic library libcudart.so.10.1\n",
            "Traceback (most recent call last):\n",
            "  File \"CRNN/C-RNN_model1.py\", line 122, in <module>\n",
            "    args = read_arguments(sys.argv[:])\n",
            "  File \"/content/drive/My Drive/ismir2018_dominant_melody_estimation-master/CRNN/utils.py\", line 203, in read_arguments\n",
            "    with open('{0}/dataset-{1}_parameters.json'.format(get_dataset_load_path(), args.dataset_number), 'r') as f:\n",
            "FileNotFoundError: [Errno 2] No such file or directory: '/content/drive/My Drive/medleydb_dataset_splits/dataset-1_parameters.json'\n"
          ],
          "name": "stdout"
        }
      ]
    },
    {
      "cell_type": "code",
      "metadata": {
        "id": "CV5M1au4HAGt",
        "colab_type": "code",
        "colab": {
          "base_uri": "https://localhost:8080/",
          "height": 34
        },
        "outputId": "117e21cb-310f-45a8-d3c2-4210a88c8d1d"
      },
      "source": [
        "%cd /content/drive/\"My Drive\"/ismir2018_dominant_melody_estimation-master/random_dataset_splits"
      ],
      "execution_count": 73,
      "outputs": [
        {
          "output_type": "stream",
          "text": [
            "/content/drive/My Drive/ismir2018_dominant_melody_estimation-master/random_dataset_splits\n"
          ],
          "name": "stdout"
        }
      ]
    },
    {
      "cell_type": "code",
      "metadata": {
        "id": "_qJPwq5BHJDu",
        "colab_type": "code",
        "colab": {
          "base_uri": "https://localhost:8080/",
          "height": 345
        },
        "outputId": "3eb8fc5b-ea7d-44c6-fe17-b43c3b78f735"
      },
      "source": [
        "%run random_splits.py -v --dataset-number \"1\" "
      ],
      "execution_count": 75,
      "outputs": [
        {
          "output_type": "error",
          "ename": "TypeError",
          "evalue": "ignored",
          "traceback": [
            "\u001b[0;31m---------------------------------------------------------------------------\u001b[0m",
            "\u001b[0;31mTypeError\u001b[0m                                 Traceback (most recent call last)",
            "\u001b[0;32m/content/drive/My Drive/ismir2018_dominant_melody_estimation-master/random_dataset_splits/random_splits.py\u001b[0m in \u001b[0;36m<module>\u001b[0;34m()\u001b[0m\n\u001b[1;32m    559\u001b[0m \u001b[0;32mif\u001b[0m \u001b[0m__name__\u001b[0m \u001b[0;34m==\u001b[0m \u001b[0;34m'__main__'\u001b[0m\u001b[0;34m:\u001b[0m\u001b[0;34m\u001b[0m\u001b[0;34m\u001b[0m\u001b[0m\n\u001b[1;32m    560\u001b[0m     \u001b[0margs\u001b[0m \u001b[0;34m=\u001b[0m \u001b[0mparse_input\u001b[0m\u001b[0;34m(\u001b[0m\u001b[0msys\u001b[0m\u001b[0;34m.\u001b[0m\u001b[0margv\u001b[0m\u001b[0;34m[\u001b[0m\u001b[0;36m1\u001b[0m\u001b[0;34m:\u001b[0m\u001b[0;34m]\u001b[0m\u001b[0;34m)\u001b[0m\u001b[0;34m\u001b[0m\u001b[0;34m\u001b[0m\u001b[0m\n\u001b[0;32m--> 561\u001b[0;31m     \u001b[0mgenerate_dataset_splits\u001b[0m\u001b[0;34m(\u001b[0m\u001b[0margs\u001b[0m\u001b[0;34m=\u001b[0m\u001b[0margs\u001b[0m\u001b[0;34m)\u001b[0m\u001b[0;34m\u001b[0m\u001b[0;34m\u001b[0m\u001b[0m\n\u001b[0m",
            "\u001b[0;32m/content/drive/My Drive/ismir2018_dominant_melody_estimation-master/random_dataset_splits/random_splits.py\u001b[0m in \u001b[0;36mgenerate_dataset_splits\u001b[0;34m(args)\u001b[0m\n\u001b[1;32m    525\u001b[0m                                                                                        validation_set_ratio=args.validation_set_ratio)\n\u001b[1;32m    526\u001b[0m     \u001b[0;32melse\u001b[0m\u001b[0;34m:\u001b[0m  \u001b[0;31m# read from a split source file\u001b[0m\u001b[0;34m\u001b[0m\u001b[0;34m\u001b[0m\u001b[0m\n\u001b[0;32m--> 527\u001b[0;31m         \u001b[0;32mwith\u001b[0m \u001b[0mopen\u001b[0m\u001b[0;34m(\u001b[0m\u001b[0margs\u001b[0m\u001b[0;34m.\u001b[0m\u001b[0msplit_file_path\u001b[0m\u001b[0;34m)\u001b[0m \u001b[0;32mas\u001b[0m \u001b[0mf\u001b[0m\u001b[0;34m:\u001b[0m\u001b[0;34m\u001b[0m\u001b[0;34m\u001b[0m\u001b[0m\n\u001b[0m\u001b[1;32m    528\u001b[0m             \u001b[0mdataset_split_lists\u001b[0m \u001b[0;34m=\u001b[0m \u001b[0mjson\u001b[0m\u001b[0;34m.\u001b[0m\u001b[0mload\u001b[0m\u001b[0;34m(\u001b[0m\u001b[0mf\u001b[0m\u001b[0;34m)\u001b[0m\u001b[0;34m\u001b[0m\u001b[0;34m\u001b[0m\u001b[0m\n\u001b[1;32m    529\u001b[0m \u001b[0;34m\u001b[0m\u001b[0m\n",
            "\u001b[0;31mTypeError\u001b[0m: expected str, bytes or os.PathLike object, not NoneType"
          ]
        }
      ]
    },
    {
      "cell_type": "code",
      "metadata": {
        "id": "uSS6wyEYKzXy",
        "colab_type": "code",
        "colab": {
          "base_uri": "https://localhost:8080/",
          "height": 473
        },
        "outputId": "f9ea0ece-0927-4db5-b28c-1e93f4743816"
      },
      "source": [
        "%run random_splits.py -v --dataset-number 1 --splits-file-path dataset-ismir-splits.json"
      ],
      "execution_count": 76,
      "outputs": [
        {
          "output_type": "error",
          "ename": "OSError",
          "evalue": "ignored",
          "traceback": [
            "\u001b[0;31m---------------------------------------------------------------------------\u001b[0m",
            "\u001b[0;31mOSError\u001b[0m                                   Traceback (most recent call last)",
            "\u001b[0;32m/content/drive/My Drive/ismir2018_dominant_melody_estimation-master/random_dataset_splits/random_splits.py\u001b[0m in \u001b[0;36m<module>\u001b[0;34m()\u001b[0m\n\u001b[1;32m    559\u001b[0m \u001b[0;32mif\u001b[0m \u001b[0m__name__\u001b[0m \u001b[0;34m==\u001b[0m \u001b[0;34m'__main__'\u001b[0m\u001b[0;34m:\u001b[0m\u001b[0;34m\u001b[0m\u001b[0;34m\u001b[0m\u001b[0m\n\u001b[1;32m    560\u001b[0m     \u001b[0margs\u001b[0m \u001b[0;34m=\u001b[0m \u001b[0mparse_input\u001b[0m\u001b[0;34m(\u001b[0m\u001b[0msys\u001b[0m\u001b[0;34m.\u001b[0m\u001b[0margv\u001b[0m\u001b[0;34m[\u001b[0m\u001b[0;36m1\u001b[0m\u001b[0;34m:\u001b[0m\u001b[0;34m]\u001b[0m\u001b[0;34m)\u001b[0m\u001b[0;34m\u001b[0m\u001b[0;34m\u001b[0m\u001b[0m\n\u001b[0;32m--> 561\u001b[0;31m     \u001b[0mgenerate_dataset_splits\u001b[0m\u001b[0;34m(\u001b[0m\u001b[0margs\u001b[0m\u001b[0;34m=\u001b[0m\u001b[0margs\u001b[0m\u001b[0;34m)\u001b[0m\u001b[0;34m\u001b[0m\u001b[0;34m\u001b[0m\u001b[0m\n\u001b[0m",
            "\u001b[0;32m/content/drive/My Drive/ismir2018_dominant_melody_estimation-master/random_dataset_splits/random_splits.py\u001b[0m in \u001b[0;36mgenerate_dataset_splits\u001b[0;34m(args)\u001b[0m\n\u001b[1;32m    543\u001b[0m                                     \u001b[0msong_lengths\u001b[0m\u001b[0;34m=\u001b[0m\u001b[0msong_lengths\u001b[0m\u001b[0;34m,\u001b[0m\u001b[0;34m\u001b[0m\u001b[0;34m\u001b[0m\u001b[0m\n\u001b[1;32m    544\u001b[0m                                     \u001b[0mlb\u001b[0m\u001b[0;34m=\u001b[0m\u001b[0mlb\u001b[0m\u001b[0;34m,\u001b[0m\u001b[0;34m\u001b[0m\u001b[0;34m\u001b[0m\u001b[0m\n\u001b[0;32m--> 545\u001b[0;31m                                     args=args)\n\u001b[0m\u001b[1;32m    546\u001b[0m \u001b[0;34m\u001b[0m\u001b[0m\n\u001b[1;32m    547\u001b[0m     x_validation, y_validation = generate_set(set_choice='validation_set',\n",
            "\u001b[0;32m/content/drive/My Drive/ismir2018_dominant_melody_estimation-master/random_dataset_splits/random_splits.py\u001b[0m in \u001b[0;36mgenerate_set\u001b[0;34m(set_choice, set_list, song_lengths, lb, args)\u001b[0m\n\u001b[1;32m    435\u001b[0m     \u001b[0;32mfor\u001b[0m \u001b[0mind\u001b[0m\u001b[0;34m,\u001b[0m \u001b[0mtrack_name\u001b[0m \u001b[0;32min\u001b[0m \u001b[0menumerate\u001b[0m\u001b[0;34m(\u001b[0m\u001b[0mset_list\u001b[0m\u001b[0;34m)\u001b[0m\u001b[0;34m:\u001b[0m\u001b[0;34m\u001b[0m\u001b[0;34m\u001b[0m\u001b[0m\n\u001b[1;32m    436\u001b[0m         \u001b[0mlabels\u001b[0m \u001b[0;34m=\u001b[0m \u001b[0mget_labels\u001b[0m\u001b[0;34m(\u001b[0m\u001b[0mtrack_name\u001b[0m\u001b[0;34m=\u001b[0m\u001b[0mtrack_name\u001b[0m\u001b[0;34m)\u001b[0m\u001b[0;34m\u001b[0m\u001b[0;34m\u001b[0m\u001b[0m\n\u001b[0;32m--> 437\u001b[0;31m         \u001b[0mfeature_sequence\u001b[0m \u001b[0;34m=\u001b[0m \u001b[0mget_feature_sequence\u001b[0m\u001b[0;34m(\u001b[0m\u001b[0mtrack_name\u001b[0m\u001b[0;34m=\u001b[0m\u001b[0mtrack_name\u001b[0m\u001b[0;34m,\u001b[0m \u001b[0margs\u001b[0m\u001b[0;34m=\u001b[0m\u001b[0margs\u001b[0m\u001b[0;34m)\u001b[0m\u001b[0;34m\u001b[0m\u001b[0;34m\u001b[0m\u001b[0m\n\u001b[0m\u001b[1;32m    438\u001b[0m \u001b[0;34m\u001b[0m\u001b[0m\n\u001b[1;32m    439\u001b[0m         \u001b[0;32mif\u001b[0m \u001b[0margs\u001b[0m\u001b[0;34m.\u001b[0m\u001b[0mverbose\u001b[0m\u001b[0;34m:\u001b[0m\u001b[0;34m\u001b[0m\u001b[0;34m\u001b[0m\u001b[0m\n",
            "\u001b[0;32m/content/drive/My Drive/ismir2018_dominant_melody_estimation-master/random_dataset_splits/random_splits.py\u001b[0m in \u001b[0;36mget_feature_sequence\u001b[0;34m(track_name, args)\u001b[0m\n\u001b[1;32m    422\u001b[0m         \u001b[0mdict_key\u001b[0m \u001b[0;34m=\u001b[0m \u001b[0;34m'cqt'\u001b[0m\u001b[0;34m\u001b[0m\u001b[0;34m\u001b[0m\u001b[0m\n\u001b[1;32m    423\u001b[0m \u001b[0;34m\u001b[0m\u001b[0m\n\u001b[0;32m--> 424\u001b[0;31m     \u001b[0mfeats\u001b[0m \u001b[0;34m=\u001b[0m \u001b[0mh5py\u001b[0m\u001b[0;34m.\u001b[0m\u001b[0mFile\u001b[0m\u001b[0;34m(\u001b[0m\u001b[0mfeature_sequence_path\u001b[0m\u001b[0;34m,\u001b[0m \u001b[0;34m'r'\u001b[0m\u001b[0;34m)\u001b[0m\u001b[0;34m\u001b[0m\u001b[0;34m\u001b[0m\u001b[0m\n\u001b[0m\u001b[1;32m    425\u001b[0m     \u001b[0mfeature_sequence\u001b[0m \u001b[0;34m=\u001b[0m \u001b[0mnp\u001b[0m\u001b[0;34m.\u001b[0m\u001b[0marray\u001b[0m\u001b[0;34m(\u001b[0m\u001b[0mfeats\u001b[0m\u001b[0;34m[\u001b[0m\u001b[0mdict_key\u001b[0m\u001b[0;34m]\u001b[0m\u001b[0;34m)\u001b[0m\u001b[0;34m\u001b[0m\u001b[0;34m\u001b[0m\u001b[0m\n\u001b[1;32m    426\u001b[0m \u001b[0;34m\u001b[0m\u001b[0m\n",
            "\u001b[0;32m/usr/local/lib/python3.6/dist-packages/h5py/_hl/files.py\u001b[0m in \u001b[0;36m__init__\u001b[0;34m(self, name, mode, driver, libver, userblock_size, swmr, rdcc_nslots, rdcc_nbytes, rdcc_w0, track_order, **kwds)\u001b[0m\n\u001b[1;32m    406\u001b[0m                 fid = make_fid(name, mode, userblock_size,\n\u001b[1;32m    407\u001b[0m                                \u001b[0mfapl\u001b[0m\u001b[0;34m,\u001b[0m \u001b[0mfcpl\u001b[0m\u001b[0;34m=\u001b[0m\u001b[0mmake_fcpl\u001b[0m\u001b[0;34m(\u001b[0m\u001b[0mtrack_order\u001b[0m\u001b[0;34m=\u001b[0m\u001b[0mtrack_order\u001b[0m\u001b[0;34m)\u001b[0m\u001b[0;34m,\u001b[0m\u001b[0;34m\u001b[0m\u001b[0;34m\u001b[0m\u001b[0m\n\u001b[0;32m--> 408\u001b[0;31m                                swmr=swmr)\n\u001b[0m\u001b[1;32m    409\u001b[0m \u001b[0;34m\u001b[0m\u001b[0m\n\u001b[1;32m    410\u001b[0m             \u001b[0;32mif\u001b[0m \u001b[0misinstance\u001b[0m\u001b[0;34m(\u001b[0m\u001b[0mlibver\u001b[0m\u001b[0;34m,\u001b[0m \u001b[0mtuple\u001b[0m\u001b[0;34m)\u001b[0m\u001b[0;34m:\u001b[0m\u001b[0;34m\u001b[0m\u001b[0;34m\u001b[0m\u001b[0m\n",
            "\u001b[0;32m/usr/local/lib/python3.6/dist-packages/h5py/_hl/files.py\u001b[0m in \u001b[0;36mmake_fid\u001b[0;34m(name, mode, userblock_size, fapl, fcpl, swmr)\u001b[0m\n\u001b[1;32m    171\u001b[0m         \u001b[0;32mif\u001b[0m \u001b[0mswmr\u001b[0m \u001b[0;32mand\u001b[0m \u001b[0mswmr_support\u001b[0m\u001b[0;34m:\u001b[0m\u001b[0;34m\u001b[0m\u001b[0;34m\u001b[0m\u001b[0m\n\u001b[1;32m    172\u001b[0m             \u001b[0mflags\u001b[0m \u001b[0;34m|=\u001b[0m \u001b[0mh5f\u001b[0m\u001b[0;34m.\u001b[0m\u001b[0mACC_SWMR_READ\u001b[0m\u001b[0;34m\u001b[0m\u001b[0;34m\u001b[0m\u001b[0m\n\u001b[0;32m--> 173\u001b[0;31m         \u001b[0mfid\u001b[0m \u001b[0;34m=\u001b[0m \u001b[0mh5f\u001b[0m\u001b[0;34m.\u001b[0m\u001b[0mopen\u001b[0m\u001b[0;34m(\u001b[0m\u001b[0mname\u001b[0m\u001b[0;34m,\u001b[0m \u001b[0mflags\u001b[0m\u001b[0;34m,\u001b[0m \u001b[0mfapl\u001b[0m\u001b[0;34m=\u001b[0m\u001b[0mfapl\u001b[0m\u001b[0;34m)\u001b[0m\u001b[0;34m\u001b[0m\u001b[0;34m\u001b[0m\u001b[0m\n\u001b[0m\u001b[1;32m    174\u001b[0m     \u001b[0;32melif\u001b[0m \u001b[0mmode\u001b[0m \u001b[0;34m==\u001b[0m \u001b[0;34m'r+'\u001b[0m\u001b[0;34m:\u001b[0m\u001b[0;34m\u001b[0m\u001b[0;34m\u001b[0m\u001b[0m\n\u001b[1;32m    175\u001b[0m         \u001b[0mfid\u001b[0m \u001b[0;34m=\u001b[0m \u001b[0mh5f\u001b[0m\u001b[0;34m.\u001b[0m\u001b[0mopen\u001b[0m\u001b[0;34m(\u001b[0m\u001b[0mname\u001b[0m\u001b[0;34m,\u001b[0m \u001b[0mh5f\u001b[0m\u001b[0;34m.\u001b[0m\u001b[0mACC_RDWR\u001b[0m\u001b[0;34m,\u001b[0m \u001b[0mfapl\u001b[0m\u001b[0;34m=\u001b[0m\u001b[0mfapl\u001b[0m\u001b[0;34m)\u001b[0m\u001b[0;34m\u001b[0m\u001b[0;34m\u001b[0m\u001b[0m\n",
            "\u001b[0;32mh5py/_objects.pyx\u001b[0m in \u001b[0;36mh5py._objects.with_phil.wrapper\u001b[0;34m()\u001b[0m\n",
            "\u001b[0;32mh5py/_objects.pyx\u001b[0m in \u001b[0;36mh5py._objects.with_phil.wrapper\u001b[0;34m()\u001b[0m\n",
            "\u001b[0;32mh5py/h5f.pyx\u001b[0m in \u001b[0;36mh5py.h5f.open\u001b[0;34m()\u001b[0m\n",
            "\u001b[0;31mOSError\u001b[0m: Unable to open file (unable to open file: name = '/content/drive/My Drive/ismir2018_dominant_melody_estimation-master/medleydb_features/HF0s_STFT/AimeeNorwich_Child.h5', errno = 2, error message = 'No such file or directory', flags = 0, o_flags = 0)"
          ]
        }
      ]
    },
    {
      "cell_type": "code",
      "metadata": {
        "id": "CJf5DcDUMgd_",
        "colab_type": "code",
        "colab": {
          "base_uri": "https://localhost:8080/",
          "height": 121
        },
        "outputId": "d6ae35d9-d6dc-4112-df0d-4a0df3e69d3f"
      },
      "source": [
        "!python3 random_splits.py"
      ],
      "execution_count": 77,
      "outputs": [
        {
          "output_type": "stream",
          "text": [
            "Traceback (most recent call last):\n",
            "  File \"random_splits.py\", line 561, in <module>\n",
            "    generate_dataset_splits(args=args)\n",
            "  File \"random_splits.py\", line 527, in generate_dataset_splits\n",
            "    with open(args.split_file_path) as f:\n",
            "TypeError: expected str, bytes or os.PathLike object, not NoneType\n"
          ],
          "name": "stdout"
        }
      ]
    },
    {
      "cell_type": "code",
      "metadata": {
        "id": "QiYFrWya1atD",
        "colab_type": "code",
        "colab": {
          "base_uri": "https://localhost:8080/",
          "height": 34
        },
        "outputId": "89b60849-59b4-411e-dbec-7ae500c0e7a8"
      },
      "source": [
        "%cd /content/drive/\"My Drive\"/ismir2018_dominant_melody_estimation-master/medleydb/Verdi_IlTrovatore"
      ],
      "execution_count": 20,
      "outputs": [
        {
          "output_type": "stream",
          "text": [
            "/content/drive/My Drive/ismir2018_dominant_melody_estimation-master/medleydb/Verdi_IlTrovatore\n"
          ],
          "name": "stdout"
        }
      ]
    },
    {
      "cell_type": "code",
      "metadata": {
        "id": "PPZZyrhs5Yv8",
        "colab_type": "code",
        "colab": {}
      },
      "source": [
        "!cp Verdi_IlTrovatore_MIX.wav /content/drive/\"My Drive\"/ismir2018_dominant_melody_estimation-master/medleydb_audio/"
      ],
      "execution_count": 0,
      "outputs": []
    },
    {
      "cell_type": "code",
      "metadata": {
        "id": "fdjNVqYJEcNx",
        "colab_type": "code",
        "colab": {
          "base_uri": "https://localhost:8080/",
          "height": 121
        },
        "outputId": "12a80270-6f91-420b-9b7c-c627d02a5742"
      },
      "source": [
        "!git clone https://github.com/marl/medleydb.git"
      ],
      "execution_count": 27,
      "outputs": [
        {
          "output_type": "stream",
          "text": [
            "Cloning into 'medleydb'...\n",
            "remote: Enumerating objects: 6566, done.\u001b[K\n",
            "remote: Total 6566 (delta 0), reused 0 (delta 0), pack-reused 6566\u001b[K\n",
            "Receiving objects: 100% (6566/6566), 262.21 MiB | 14.46 MiB/s, done.\n",
            "Resolving deltas: 100% (2824/2824), done.\n",
            "Checking out files: 100% (2201/2201), done.\n"
          ],
          "name": "stdout"
        }
      ]
    },
    {
      "cell_type": "code",
      "metadata": {
        "id": "m5fgIkeFFLd2",
        "colab_type": "code",
        "colab": {
          "base_uri": "https://localhost:8080/",
          "height": 34
        },
        "outputId": "eadec295-c3f9-4ce8-8db5-558446b9ff52"
      },
      "source": [
        "%cd /content/drive/\"My Drive\"/ismir2018_dominant_melody_estimation-master/medleydb"
      ],
      "execution_count": 30,
      "outputs": [
        {
          "output_type": "stream",
          "text": [
            "/content/drive/My Drive/ismir2018_dominant_melody_estimation-master/medleydb\n"
          ],
          "name": "stdout"
        }
      ]
    },
    {
      "cell_type": "code",
      "metadata": {
        "id": "2fhP2qY5FuQS",
        "colab_type": "code",
        "colab": {
          "base_uri": "https://localhost:8080/",
          "height": 627
        },
        "outputId": "b38e9aaf-999e-4256-eeb8-9677f2642dd9"
      },
      "source": [
        "!pip install ."
      ],
      "execution_count": 32,
      "outputs": [
        {
          "output_type": "stream",
          "text": [
            "Processing /content/drive/My Drive/ismir2018_dominant_melody_estimation-master/medleydb\n",
            "Collecting sox>=1.2.3\n",
            "  Downloading https://files.pythonhosted.org/packages/60/a0/5bee540554af8376e0313e462629d95bf2f2bc3c8cb60697aa01254e6cf5/sox-1.3.7-py2.py3-none-any.whl\n",
            "Requirement already satisfied: pyyaml>=3.11 in /usr/local/lib/python3.6/dist-packages (from medleydb==1.3.4) (3.13)\n",
            "Requirement already satisfied: numpy>=1.8.0 in /usr/local/lib/python3.6/dist-packages (from medleydb==1.3.4) (1.18.4)\n",
            "Requirement already satisfied: six>=1.3 in /usr/local/lib/python3.6/dist-packages (from medleydb==1.3.4) (1.12.0)\n",
            "Requirement already satisfied: librosa>=0.6.2 in /usr/local/lib/python3.6/dist-packages (from medleydb==1.3.4) (0.6.3)\n",
            "Requirement already satisfied: pydrive>=1.3.1 in /usr/local/lib/python3.6/dist-packages (from medleydb==1.3.4) (1.3.1)\n",
            "Requirement already satisfied: scipy>=0.13.0 in /usr/local/lib/python3.6/dist-packages (from medleydb==1.3.4) (1.4.1)\n",
            "Requirement already satisfied: scikit-learn>=0.18 in /usr/local/lib/python3.6/dist-packages (from medleydb==1.3.4) (0.22.2.post1)\n",
            "Requirement already satisfied: resampy>=0.2.0 in /usr/local/lib/python3.6/dist-packages (from librosa>=0.6.2->medleydb==1.3.4) (0.2.2)\n",
            "Requirement already satisfied: decorator>=3.0.0 in /usr/local/lib/python3.6/dist-packages (from librosa>=0.6.2->medleydb==1.3.4) (4.4.2)\n",
            "Requirement already satisfied: audioread>=2.0.0 in /usr/local/lib/python3.6/dist-packages (from librosa>=0.6.2->medleydb==1.3.4) (2.1.8)\n",
            "Requirement already satisfied: joblib>=0.12 in /usr/local/lib/python3.6/dist-packages (from librosa>=0.6.2->medleydb==1.3.4) (0.15.1)\n",
            "Requirement already satisfied: numba>=0.38.0 in /usr/local/lib/python3.6/dist-packages (from librosa>=0.6.2->medleydb==1.3.4) (0.48.0)\n",
            "Requirement already satisfied: google-api-python-client>=1.2 in /usr/local/lib/python3.6/dist-packages (from pydrive>=1.3.1->medleydb==1.3.4) (1.7.12)\n",
            "Requirement already satisfied: oauth2client>=4.0.0 in /usr/local/lib/python3.6/dist-packages (from pydrive>=1.3.1->medleydb==1.3.4) (4.1.3)\n",
            "Requirement already satisfied: setuptools in /usr/local/lib/python3.6/dist-packages (from numba>=0.38.0->librosa>=0.6.2->medleydb==1.3.4) (46.3.0)\n",
            "Requirement already satisfied: llvmlite<0.32.0,>=0.31.0dev0 in /usr/local/lib/python3.6/dist-packages (from numba>=0.38.0->librosa>=0.6.2->medleydb==1.3.4) (0.31.0)\n",
            "Requirement already satisfied: httplib2<1dev,>=0.17.0 in /usr/local/lib/python3.6/dist-packages (from google-api-python-client>=1.2->pydrive>=1.3.1->medleydb==1.3.4) (0.17.3)\n",
            "Requirement already satisfied: uritemplate<4dev,>=3.0.0 in /usr/local/lib/python3.6/dist-packages (from google-api-python-client>=1.2->pydrive>=1.3.1->medleydb==1.3.4) (3.0.1)\n",
            "Requirement already satisfied: google-auth-httplib2>=0.0.3 in /usr/local/lib/python3.6/dist-packages (from google-api-python-client>=1.2->pydrive>=1.3.1->medleydb==1.3.4) (0.0.3)\n",
            "Requirement already satisfied: google-auth>=1.4.1 in /usr/local/lib/python3.6/dist-packages (from google-api-python-client>=1.2->pydrive>=1.3.1->medleydb==1.3.4) (1.7.2)\n",
            "Requirement already satisfied: pyasn1-modules>=0.0.5 in /usr/local/lib/python3.6/dist-packages (from oauth2client>=4.0.0->pydrive>=1.3.1->medleydb==1.3.4) (0.2.8)\n",
            "Requirement already satisfied: rsa>=3.1.4 in /usr/local/lib/python3.6/dist-packages (from oauth2client>=4.0.0->pydrive>=1.3.1->medleydb==1.3.4) (4.0)\n",
            "Requirement already satisfied: pyasn1>=0.1.7 in /usr/local/lib/python3.6/dist-packages (from oauth2client>=4.0.0->pydrive>=1.3.1->medleydb==1.3.4) (0.4.8)\n",
            "Requirement already satisfied: cachetools<3.2,>=2.0.0 in /usr/local/lib/python3.6/dist-packages (from google-auth>=1.4.1->google-api-python-client>=1.2->pydrive>=1.3.1->medleydb==1.3.4) (3.1.1)\n",
            "Building wheels for collected packages: medleydb\n",
            "  Building wheel for medleydb (setup.py) ... \u001b[?25l\u001b[?25hdone\n",
            "  Created wheel for medleydb: filename=medleydb-1.3.4-py2.py3-none-any.whl size=200647896 sha256=dfeb42fee199d2efb3f5b010aba3c1ba23dca319110f78129729b66d00d5b285\n",
            "  Stored in directory: /tmp/pip-ephem-wheel-cache-5wdidrtx/wheels/9b/14/1d/62d84d1481ac260ebc920336f5a1701f1ecef642830c791164\n",
            "Successfully built medleydb\n",
            "Installing collected packages: sox, medleydb\n",
            "Successfully installed medleydb-1.3.4 sox-1.3.7\n"
          ],
          "name": "stdout"
        }
      ]
    },
    {
      "cell_type": "code",
      "metadata": {
        "id": "tv9vSolbGBxO",
        "colab_type": "code",
        "colab": {}
      },
      "source": [
        "!export MEDLEYDB_PATH=/content/drive/\"My Drive\"/ismir2018_dominant_melody_estimation-master/Medleydb"
      ],
      "execution_count": 0,
      "outputs": []
    },
    {
      "cell_type": "code",
      "metadata": {
        "id": "cjUkXhxLGf_i",
        "colab_type": "code",
        "colab": {
          "base_uri": "https://localhost:8080/",
          "height": 34
        },
        "outputId": "32c0e4c5-7409-4839-d74e-726af9615f75"
      },
      "source": [
        "!pip install sox  # install the python package"
      ],
      "execution_count": 36,
      "outputs": [
        {
          "output_type": "stream",
          "text": [
            "Requirement already satisfied: sox in /usr/local/lib/python3.6/dist-packages (1.3.7)\n"
          ],
          "name": "stdout"
        }
      ]
    },
    {
      "cell_type": "code",
      "metadata": {
        "id": "jRxu0ek8atfU",
        "colab_type": "code",
        "colab": {}
      },
      "source": [
        ""
      ],
      "execution_count": 0,
      "outputs": []
    }
  ]
}